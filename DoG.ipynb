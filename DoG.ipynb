{
 "cells": [
  {
   "cell_type": "markdown",
   "id": "7d4674f3",
   "metadata": {},
   "source": [
    "### The following are useful functions for measuring serial dependence applied to the measurement of the response bias induced by the oriented distractor for WM_DistractV11\n",
    "\n",
    "- DoG_fit: fits real data input with a the curve of the first derivative of a gaussian\n",
    "- puredog: generates a first derivative of a gaussian you can use to test various parameter values"
   ]
  },
  {
   "cell_type": "code",
   "execution_count": null,
   "id": "4db529f1",
   "metadata": {},
   "outputs": [],
   "source": [
    "import numpy as np\n",
    "import matplotlib.pyplot as plt\n",
    "from scipy.optimize import minimize\n",
    "\n",
    "def DoG_fit(x, y, plots=False):\n",
    "    # Define the first derivative of a Gaussian model\n",
    "    def gaussian_derivative(p, x):\n",
    "        w, amp = p\n",
    "        k = np.sqrt(2) / np.exp(-0.5)\n",
    "        y_model = x * amp * w * k * np.exp(-w * x**2)\n",
    "        return y_model\n",
    "\n",
    "    def objective_function(p, x, y):\n",
    "        y_model = gaussian_derivative(p, x)\n",
    "        return np.sum((y - y_model)**2)\n",
    "\n",
    "    # Initial parameter values\n",
    "    initial_params = np.array([0.01, 30])\n",
    "\n",
    "    # Use minimize to fit the model to the data\n",
    "    fit_result = minimize(objective_function, initial_params, args=(x, y), method=\"Nelder-Mead\")\n",
    "\n",
    "    # Extract the fitted parameters\n",
    "    fitted_params = fit_result.x\n",
    "\n",
    "    # Generate the fitted curve\n",
    "    y_fit = gaussian_derivative(fitted_params, x)\n",
    "\n",
    "    # Calculate R-squared\n",
    "    ss_total = np.sum((y - np.mean(y))**2)\n",
    "    ss_residual = np.sum((y - y_fit)**2)\n",
    "    r_squared = 1 - ss_residual / ss_total\n",
    "\n",
    "    # Plot the original data and the fitted curve\n",
    "    if plots:\n",
    "        plt.plot(x, y, color=\"blue\", linewidth=2, label=\"Data\")\n",
    "        plt.plot(x, y_fit, color=\"red\", linewidth=2, linestyle=\"--\", label=\"Fitted Curve\")\n",
    "        plt.xlabel(\"x\")\n",
    "        plt.ylabel(\"y\")\n",
    "        plt.title(\"Fitted Gaussian Derivative\")\n",
    "        plt.legend()\n",
    "        plt.show()\n",
    "\n",
    "    return np.concatenate((fitted_params, np.array([r_squared]), y_fit))\n",
    "\n",
    "# Example usage:\n",
    "# x: range of possible values over which serial dependence measure influences your data, -89:90 deg\n",
    "# y: behavioral error measurement, deg (from circular standard deviation)\n",
    "# DoG_fit_result = DoG_fit(x_data, y_data, plots=True)\n"
   ]
  },
  {
   "cell_type": "code",
   "execution_count": null,
   "id": "4eb7572a",
   "metadata": {},
   "outputs": [],
   "source": [
    "def puredog(w, a, x, noise):\n",
    "    k = np.sqrt(2) / np.exp(-0.5)\n",
    "    y = x * a * w * k * np.exp(-w * x**2) + np.random.normal(0, noise, len(x))\n",
    "    \n",
    "    plt.plot(x, y, color=\"blue\", linewidth=2)\n",
    "    plt.xlabel(\"x\")\n",
    "    plt.ylabel(\"y\")\n",
    "    plt.title(\"DoG Function\")\n",
    "    plt.show()\n",
    "    \n",
    "    return np.column_stack((x, y))\n",
    "\n",
    "# Example usage:\n",
    "# Replace the values with your desired parameters\n",
    "# w is curve width scaling parameter\n",
    "# a is amplitude of curve peaks, interpret as the amount of serial dependence bias\n",
    "df = puredog(0.02, 71.8, np.arange(-89, 91), 0.1)\n",
    "DoG_fit_result = DoG_fit(df[:, 0], df[:, 1], plots=True)"
   ]
  }
 ],
 "metadata": {
  "kernelspec": {
   "display_name": "Python 3",
   "language": "python",
   "name": "python3"
  },
  "language_info": {
   "codemirror_mode": {
    "name": "ipython",
    "version": 3
   },
   "file_extension": ".py",
   "mimetype": "text/x-python",
   "name": "python",
   "nbconvert_exporter": "python",
   "pygments_lexer": "ipython3",
   "version": "3.8.8"
  }
 },
 "nbformat": 4,
 "nbformat_minor": 5
}

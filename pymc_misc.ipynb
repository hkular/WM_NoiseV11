{
 "cells": [
  {
   "cell_type": "markdown",
   "id": "adb62b79-bb13-4ac2-aa2f-be4cd874659f",
   "metadata": {},
   "source": [
    "# (4) Bayes repeated measures anova\n",
    " based on Rouder et al. 2012"
   ]
  },
  {
   "cell_type": "code",
   "execution_count": null,
   "id": "7032ba52-a4f1-4630-ba3b-c173769de2f6",
   "metadata": {},
   "outputs": [],
   "source": [
    "import arviz as az\n",
    "import matplotlib.pyplot as plt\n",
    "import numpy as np\n",
    "import pymc as pm\n",
    "import bambi as bmb"
   ]
  },
  {
   "cell_type": "code",
   "execution_count": null,
   "id": "ae7adbf1-697d-44b4-97d3-4bd7cc8a1fdb",
   "metadata": {},
   "outputs": [],
   "source": [
    "# model has main effects of kappa, distractor. interaction of kappa and distractor. random effect of subject.\n",
    "model = bmb.Model(\n",
    "    '''\n",
    "    circ_sd ~ kappa*distractor  \n",
    "                        + (1|subject)\n",
    "    ''',\n",
    "    dfV11_circstats, family='vonmises') \n",
    "# family = von mises? because we are predicting circular variable?\n",
    "# family = gaussian? because circ_sd is normal?\n",
    "model.build();\n",
    "# idata_kwargs={\"log_likelihood\": True}"
   ]
  },
  {
   "cell_type": "code",
   "execution_count": null,
   "id": "8b100e9f-6816-4cfa-b79a-81088e670468",
   "metadata": {},
   "outputs": [],
   "source": [
    "#model.graph # group specific means random effects"
   ]
  },
  {
   "cell_type": "code",
   "execution_count": null,
   "id": "fd1106e3-f2ce-4308-9ecf-f443f015f213",
   "metadata": {},
   "outputs": [],
   "source": [
    "#results = model.fit();"
   ]
  },
  {
   "cell_type": "code",
   "execution_count": null,
   "id": "84a4d109-2d7f-4364-980c-389cdb49a910",
   "metadata": {},
   "outputs": [],
   "source": [
    "model.plot_priors();\n",
    "#az.plot_trace(results, compact=False);\n",
    "#az.summary(results)\n",
    "#list(results.posterior.data_vars)\n",
    "#model.backend.model"
   ]
  },
  {
   "cell_type": "code",
   "execution_count": null,
   "id": "db7120fc-95f0-4e63-ade1-6e6774a9d306",
   "metadata": {},
   "outputs": [],
   "source": [
    "# try another model following radon example\n",
    "unpooled_priors = {\n",
    "    \"kappa:distractor\": bmb.Prior(\"Normal\", mu=0, sigma=10),\n",
    "    \"sigma\": bmb.Prior(\"Normal\", mu=0, sigma = 10),\n",
    "}\n",
    "\n",
    "unpooled_model = bmb.Model(\"circ_sd ~ 0 + kappa:distractor\", dfV11_circstats, priors=unpooled_priors)\n",
    "unpooled_model\n",
    "\n"
   ]
  },
  {
   "cell_type": "code",
   "execution_count": null,
   "id": "3c2129ef-e64c-4b55-8e39-34f503a23dde",
   "metadata": {},
   "outputs": [],
   "source": [
    "unpooled_results = unpooled_model.fit()"
   ]
  },
  {
   "cell_type": "code",
   "execution_count": null,
   "id": "ac0e0f20-333e-45e0-87a4-13b6b5e7c3f6",
   "metadata": {},
   "outputs": [],
   "source": [
    "az.plot_trace(data=unpooled_results, compact=True, chain_prop={\"ls\": \"-\"})\n",
    "plt.suptitle(\"Un-Pooled Model Trace\");"
   ]
  },
  {
   "cell_type": "code",
   "execution_count": null,
   "id": "da87268b-aedb-4518-84ab-b02647c0e9d2",
   "metadata": {},
   "outputs": [],
   "source": [
    "az.plot_forest(data=unpooled_results, figsize=(2,4), r_hat=True, combined=True, textsize=8);"
   ]
  },
  {
   "cell_type": "code",
   "execution_count": null,
   "id": "99168f52-ef0f-407b-818f-b0996df20cdf",
   "metadata": {},
   "outputs": [],
   "source": [
    "dfV11_circstats['kappa'].replace(['low', 'high'], [0,1], inplace=True)\n",
    "dfV11_circstats['distractor'].replace(['none', 'ignore', 'attend'], [0,1,2], inplace=True)\n",
    "dfV11_circstats['subject'].astype('int')\n",
    "dfV11_circstats.head()"
   ]
  },
  {
   "cell_type": "code",
   "execution_count": null,
   "id": "0f6c4ec4-281f-4110-9ccc-c0519538ad9b",
   "metadata": {},
   "outputs": [],
   "source": [
    "mu_circ =   beta_d * dfV11_circstats['distractor'] \n",
    "mu_circ.shape\n",
    "(dfV11_circstats['circ_sd']).shape"
   ]
  },
  {
   "cell_type": "code",
   "execution_count": null,
   "id": "7cc9535b-f455-4cd5-b154-7c588940026c",
   "metadata": {},
   "outputs": [],
   "source": [
    "# try calculating individual BF10s for each model\n",
    "# model1: circ_sd ~ kappa +(subject)\n",
    "# hierarchical circular regression\n",
    "# change kappa to 1 or 2\n",
    "# change subject to numerical\n",
    "\n",
    "models = [];\n",
    "idatas = [];\n",
    "with pm.Model() as model:\n",
    "    # Priors for model parameters\n",
    "    beta = pm.Normal('beta', mu=0, sigma=10, shape=(1,1))  # Coefficients for categorical predictor\n",
    "    beta_d = pm.Normal('beta_d', mu=0, sigma=10, shape=(1,1)) \n",
    "    intercept = pm.Normal('intercept', mu=0, sigma=10)  # Intercept noise not accounted for by kappa and subject\n",
    "    # Random effects for subjects\n",
    "    subject_beta = pm.Normal('subject_beta', mu=0, sigma=10, shape=(1,1))\n",
    "    \n",
    "    mu_circ = beta * dfV11_circstats['kappa'] + beta_d * dfV11_circstats['distractor'] + subject_beta * dfV11_circstats['subject'] + intercept\n",
    "    # Likelihood   \n",
    "    circ_est = pm.Normal('circ_outcome', mu=mu_circ, sigma = 10, observed= np.array(dfV11_circstats['circ_sd']).reshape((1,144)))\n",
    "\n",
    " \n",
    "    trace = pm.sample(1000, tune=1000)\n",
    "    #idata_circ = pm.sample_smc(random_seed=42)\n",
    "    #idata_circ.extend(pm.sample_prior_predictive(8000))\n",
    "    #models.append(model)\n",
    "    #idatas.append(idata_circ)"
   ]
  },
  {
   "cell_type": "code",
   "execution_count": null,
   "id": "91d99e54-9dda-459c-81ac-a05abb1c0eb7",
   "metadata": {},
   "outputs": [],
   "source": [
    "with model:\n",
    "    az.plot_trace(trace)"
   ]
  },
  {
   "cell_type": "code",
   "execution_count": null,
   "id": "d50be611-51eb-4716-a939-e78312936870",
   "metadata": {},
   "outputs": [],
   "source": [
    "with model:\n",
    "    display(az.summary(trace, round_to=2))"
   ]
  },
  {
   "cell_type": "code",
   "execution_count": null,
   "id": "04ca8805-9708-4463-a819-d68b06011bd4",
   "metadata": {},
   "outputs": [],
   "source": [
    "BF_smc = np.exp(\n",
    "    idatas[1].sample_stats[\"log_marginal_likelihood\"].mean()\n",
    "    - idatas[0].sample_stats[\"log_marginal_likelihood\"].mean()\n",
    ")\n",
    "np.round(BF_smc).item()"
   ]
  },
  {
   "cell_type": "code",
   "execution_count": null,
   "id": "be009f76-88d4-4788-92b6-26efadf409f0",
   "metadata": {},
   "outputs": [],
   "source": [
    "# this might be the answer to my problems:\n",
    "#https://discourse.pymc.io/t/hierarchical-regression-models-for-ratings-data-2-by-2-within-subject-design/4206\n",
    "subjs = 24\n",
    "with pm.Model() as example_LMM:\n",
    "    \n",
    "    # priors\n",
    "    mu_a = pm.Normal('mua_a', mu=0., sigma=10)\n",
    "    sigma_a = pm.Exponential('sigma_a', 5)\n",
    "    mu_b = pm.Normal('mu_b', mu=0., sigma=10)\n",
    "    sigma_b = pm.Exponential('sigma_b', 5)\n",
    "    \n",
    "    # Random intecepts\n",
    "    a = pm.Normal('a', mu=mu_a, sigma=sigma_a, shape=subjs)\n",
    "    b1 = pm.Normal('b1', mu=mu_b, sigma=sigma_b, shape=subjs)\n",
    "    b2 = pm.Normal('b2', mu=mu_b, sigma=sigma_b, shape=subjs)\n",
    "    \n",
    "    # Model error\n",
    "    kappa = pm.Uniform('kappa', lower = 0, upper=100)\n",
    "    \n",
    "    # expected value\n",
    "    y_hat = a[subj] + b1[subj]*blockType + b2[subj]*CSType\n",
    "    \n",
    "    # Data likelihood\n",
    "    y_like = pm.Normal('y_like', mu=y_hat, kappa=kappa, observed=dfV11_circstats['circ_sd'])\n",
    "    \n",
    "model_to_graphviz(example_LMM)"
   ]
  },
  {
   "cell_type": "code",
   "execution_count": null,
   "id": "e31b65af-3cac-4946-8cf3-d56a48dd798f",
   "metadata": {},
   "outputs": [],
   "source": [
    "with example_LMM:\n",
    "    prior_checks = pm.sample_prior_predictive(random_seed=RANDOM_SEED)"
   ]
  }
 ],
 "metadata": {
  "kernelspec": {
   "display_name": "Python 3",
   "language": "python",
   "name": "python3"
  },
  "language_info": {
   "codemirror_mode": {
    "name": "ipython",
    "version": 3
   },
   "file_extension": ".py",
   "mimetype": "text/x-python",
   "name": "python",
   "nbconvert_exporter": "python",
   "pygments_lexer": "ipython3",
   "version": "3.8.8"
  }
 },
 "nbformat": 4,
 "nbformat_minor": 5
}

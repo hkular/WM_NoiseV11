{
 "cells": [
  {
   "cell_type": "code",
   "execution_count": 5,
   "id": "68ce4afe-b0ae-4aba-8509-c1386df95212",
   "metadata": {},
   "outputs": [],
   "source": [
    "# Import libraries\n",
    "import pandas as pd\n",
    "import seaborn as sns\n",
    "import os\n",
    "\n",
    "# Load data\n",
    "BF_rmANOVA = pd.read_csv('BFrmV11.csv') # bayesian repeated measures anova\n",
    "CircStats = pd.read_csv('barplotV11.csv') # circular statistics \n",
    "\n"
   ]
  },
  {
   "cell_type": "code",
   "execution_count": 25,
   "id": "6b4a8f2a-7c0e-4b89-9842-e51bbd80e47d",
   "metadata": {
    "tags": []
   },
   "outputs": [
    {
     "data": {
      "image/png": "[encoded data removed]",
      "text/plain": [
       "<Figure size 640x480 with 1 Axes>"
      ]
     },
     "metadata": {},
     "output_type": "display_data"
    }
   ],
   "source": [
    "# Plot circular statistics\n",
    "ax = sns.barplot(x = 'distractor', y = 'mean_sd_deg', hue = 'kappa', data = CircStats)\n",
    "ax.set_ylabel(\"Error (°)\", fontsize=16)\n",
    "ax.tick_params(axis='y', labelsize=16)\n",
    "ax.set_xlabel(\"Distractor\", fontsize=16)\n",
    "ax.set_xticklabels(['None', 'Ignore', 'Attend'], fontsize=16)\n",
    "labels = ['High', 'Low']\n",
    "h, l = ax.get_legend_handles_labels()\n",
    "ax.legend(h, labels, title=\"Stimulus Noise\", title_fontsize = 15, fontsize = 16, loc = 'lower center', bbox_to_anchor=(1.2, .2))\n",
    "sns.despine(top = True)"
   ]
  },
  {
   "cell_type": "code",
   "execution_count": 27,
   "id": "dad0f2fa-2a92-4743-b8d3-d9fc257210f6",
   "metadata": {
    "tags": []
   },
   "outputs": [
    {
     "data": {
      "text/html": [
       "<div>\n",
       "<style scoped>\n",
       "    .dataframe tbody tr th:only-of-type {\n",
       "        vertical-align: middle;\n",
       "    }\n",
       "\n",
       "    .dataframe tbody tr th {\n",
       "        vertical-align: top;\n",
       "    }\n",
       "\n",
       "    .dataframe thead th {\n",
       "        text-align: right;\n",
       "    }\n",
       "</style>\n",
       "<table border=\"1\" class=\"dataframe\">\n",
       "  <thead>\n",
       "    <tr style=\"text-align: right;\">\n",
       "      <th></th>\n",
       "      <th>bf</th>\n",
       "      <th>error</th>\n",
       "      <th>model</th>\n",
       "    </tr>\n",
       "  </thead>\n",
       "  <tbody>\n",
       "    <tr>\n",
       "      <th>0</th>\n",
       "      <td>3.431897e+12</td>\n",
       "      <td>0.010187</td>\n",
       "      <td>‘kappa+id’</td>\n",
       "    </tr>\n",
       "    <tr>\n",
       "      <th>1</th>\n",
       "      <td>7.417585e+01</td>\n",
       "      <td>0.006183</td>\n",
       "      <td>‘distractor+id’</td>\n",
       "    </tr>\n",
       "    <tr>\n",
       "      <th>2</th>\n",
       "      <td>1.326452e-01</td>\n",
       "      <td>0.005205</td>\n",
       "      <td>‘kappa:distractor+id’</td>\n",
       "    </tr>\n",
       "    <tr>\n",
       "      <th>3</th>\n",
       "      <td>5.921239e+16</td>\n",
       "      <td>0.015646</td>\n",
       "      <td>‘kappa+distractor+id’</td>\n",
       "    </tr>\n",
       "    <tr>\n",
       "      <th>4</th>\n",
       "      <td>5.002587e+11</td>\n",
       "      <td>0.013492</td>\n",
       "      <td>‘kappa+kappa:distractor+id’</td>\n",
       "    </tr>\n",
       "    <tr>\n",
       "      <th>5</th>\n",
       "      <td>1.011941e+01</td>\n",
       "      <td>0.014873</td>\n",
       "      <td>‘distractor+kappa:distractor+id’</td>\n",
       "    </tr>\n",
       "    <tr>\n",
       "      <th>6</th>\n",
       "      <td>9.678233e+15</td>\n",
       "      <td>0.033936</td>\n",
       "      <td>‘kappa+distractor+kappa:distractor+id’</td>\n",
       "    </tr>\n",
       "  </tbody>\n",
       "</table>\n",
       "</div>"
      ],
      "text/plain": [
       "             bf     error                                   model\n",
       "0  3.431897e+12  0.010187                              ‘kappa+id’\n",
       "1  7.417585e+01  0.006183                         ‘distractor+id’\n",
       "2  1.326452e-01  0.005205                   ‘kappa:distractor+id’\n",
       "3  5.921239e+16  0.015646                   ‘kappa+distractor+id’\n",
       "4  5.002587e+11  0.013492             ‘kappa+kappa:distractor+id’\n",
       "5  1.011941e+01  0.014873        ‘distractor+kappa:distractor+id’\n",
       "6  9.678233e+15  0.033936  ‘kappa+distractor+kappa:distractor+id’"
      ]
     },
     "execution_count": 27,
     "metadata": {},
     "output_type": "execute_result"
    }
   ],
   "source": [
    "# Look at Bayes repeated measures anova\n",
    "BF_rmANOVA"
   ]
  }
 ],
 "metadata": {
  "kernelspec": {
   "display_name": "Python 3 (ipykernel)",
   "language": "python",
   "name": "python3"
  },
  "language_info": {
   "codemirror_mode": {
    "name": "ipython",
    "version": 3
   },
   "file_extension": ".py",
   "mimetype": "text/x-python",
   "name": "python",
   "nbconvert_exporter": "python",
   "pygments_lexer": "ipython3",
   "version": "3.11.5"
  }
 },
 "nbformat": 4,
 "nbformat_minor": 5
}

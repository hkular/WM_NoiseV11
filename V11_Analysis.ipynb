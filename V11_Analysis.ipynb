{
 "cells": [
  {
   "cell_type": "markdown",
   "id": "d146ec42",
   "metadata": {},
   "source": [
    "# Analysis for WM_NoiseV11 in Python instead of R because pandas > tidyverse\n",
    "### HKular 11.7.23"
   ]
  },
  {
   "cell_type": "markdown",
   "id": "672e0a09",
   "metadata": {},
   "source": [
    "# Import libraries and load data, some data wrangling"
   ]
  },
  {
   "cell_type": "code",
   "execution_count": 11,
   "id": "4369d3a5",
   "metadata": {},
   "outputs": [
    {
     "data": {
      "text/plain": [
       "'hollykular'"
      ]
     },
     "execution_count": 11,
     "metadata": {},
     "output_type": "execute_result"
    }
   ],
   "source": [
    "os.getlogin()"
   ]
  },
  {
   "cell_type": "code",
   "execution_count": 9,
   "id": "5914fe05",
   "metadata": {},
   "outputs": [
    {
     "ename": "FileNotFoundError",
     "evalue": "[Errno 2] No such file or directory: '/Users/hkular/Documents/Github/noisefx/Starburst_V11'",
     "output_type": "error",
     "traceback": [
      "\u001b[0;31m---------------------------------------------------------------------------\u001b[0m",
      "\u001b[0;31mFileNotFoundError\u001b[0m                         Traceback (most recent call last)",
      "\u001b[0;32m<ipython-input-9-46bb211c5a19>\u001b[0m in \u001b[0;36m<module>\u001b[0;34m\u001b[0m\n\u001b[1;32m      7\u001b[0m \u001b[0;31m# Set the working directory\u001b[0m\u001b[0;34m\u001b[0m\u001b[0;34m\u001b[0m\u001b[0;34m\u001b[0m\u001b[0m\n\u001b[1;32m      8\u001b[0m \u001b[0;32mimport\u001b[0m \u001b[0mos\u001b[0m\u001b[0;34m\u001b[0m\u001b[0;34m\u001b[0m\u001b[0m\n\u001b[0;32m----> 9\u001b[0;31m \u001b[0mos\u001b[0m\u001b[0;34m.\u001b[0m\u001b[0mchdir\u001b[0m\u001b[0;34m(\u001b[0m\u001b[0;34m'/Users/hkular/Documents/Github/noisefx/Starburst_V11'\u001b[0m\u001b[0;34m)\u001b[0m\u001b[0;34m\u001b[0m\u001b[0;34m\u001b[0m\u001b[0m\n\u001b[0m\u001b[1;32m     10\u001b[0m \u001b[0;34m\u001b[0m\u001b[0m\n\u001b[1;32m     11\u001b[0m \u001b[0;31m# Load data\u001b[0m\u001b[0;34m\u001b[0m\u001b[0;34m\u001b[0m\u001b[0;34m\u001b[0m\u001b[0m\n",
      "\u001b[0;31mFileNotFoundError\u001b[0m: [Errno 2] No such file or directory: '/Users/hkular/Documents/Github/noisefx/Starburst_V11'"
     ]
    }
   ],
   "source": [
    "## Import libraries\n",
    "import pandas as pd\n",
    "import numpy as np\n",
    "import matplotlib.pyplot as plt\n",
    "import scipy\n",
    "\n",
    "# Set the working directory\n",
    "import os\n",
    "os.chdir('/Users/' os.getlogin() '/Documents/Github/noisefx/Starburst_V11/')\n",
    "\n",
    "# Load data\n",
    "V11 = pd.read_csv('WM_noiseV11.csv') # good subjects\n",
    "V11b = pd.read_csv('WM_noiseV11_bad.csv') # bad subjects to compare\n",
    "\n",
    "# Make numerical values that are factors actually factors\n",
    "factor_mapping = {\n",
    "    'distractor': {1: 'none', 2: 'ignore', 3: 'attend'},\n",
    "    'kappa': {100: 'high', 5000: 'low'},\n",
    "    'change': {10: 'ccw', -10: 'cw'},\n",
    "    'dist': {114: 'ccw', 112: 'ccw', 117: 'cw', 115: 'cw'}\n",
    "}\n",
    "\n",
    "V11.replace(factor_mapping, inplace=True)\n",
    "V11b.replace(factor_mapping, inplace=True)\n"
   ]
  },
  {
   "cell_type": "markdown",
   "id": "cfd34cd8",
   "metadata": {},
   "source": [
    "# Individual subject quality check"
   ]
  },
  {
   "cell_type": "code",
   "execution_count": 8,
   "id": "b4f53d30",
   "metadata": {},
   "outputs": [
    {
     "ename": "NameError",
     "evalue": "name 'V11' is not defined",
     "output_type": "error",
     "traceback": [
      "\u001b[0;31m---------------------------------------------------------------------------\u001b[0m",
      "\u001b[0;31mNameError\u001b[0m                                 Traceback (most recent call last)",
      "\u001b[0;32m<ipython-input-8-51234363ea3f>\u001b[0m in \u001b[0;36m<module>\u001b[0;34m\u001b[0m\n\u001b[1;32m      1\u001b[0m \u001b[0;31m## If they withdraw from the experiment before completing all trials (n = 576)\u001b[0m\u001b[0;34m\u001b[0m\u001b[0;34m\u001b[0m\u001b[0;34m\u001b[0m\u001b[0m\n\u001b[0;32m----> 2\u001b[0;31m \u001b[0mntrials\u001b[0m \u001b[0;34m=\u001b[0m \u001b[0mV11\u001b[0m\u001b[0;34m[\u001b[0m\u001b[0;34m'subject'\u001b[0m\u001b[0;34m]\u001b[0m\u001b[0;34m.\u001b[0m\u001b[0mvalue_counts\u001b[0m\u001b[0;34m(\u001b[0m\u001b[0;34m)\u001b[0m\u001b[0;34m\u001b[0m\u001b[0;34m\u001b[0m\u001b[0m\n\u001b[0m\u001b[1;32m      3\u001b[0m \u001b[0;31m# V11 = V11[~V11['subject'].isin(insert attrition here)]\u001b[0m\u001b[0;34m\u001b[0m\u001b[0;34m\u001b[0m\u001b[0;34m\u001b[0m\u001b[0m\n\u001b[1;32m      4\u001b[0m \u001b[0;34m\u001b[0m\u001b[0m\n\u001b[1;32m      5\u001b[0m \u001b[0;31m# Responded to at least 90% of the distractors in the attend-distractor condition\u001b[0m\u001b[0;34m\u001b[0m\u001b[0;34m\u001b[0m\u001b[0;34m\u001b[0m\u001b[0m\n",
      "\u001b[0;31mNameError\u001b[0m: name 'V11' is not defined"
     ]
    }
   ],
   "source": [
    "## If they withdraw from the experiment before completing all trials (n = 576)\n",
    "ntrials = V11['subject'].value_counts()\n",
    "# V11 = V11[~V11['subject'].isin(insert attrition here)]\n",
    "\n",
    "# Responded to at least 90% of the distractors in the attend-distractor condition\n",
    "attendrespcheck = V11[V11['distractor'] == 'attend'].groupby('subject')['dist'].count()\n",
    "attendrespcheck = attendrespcheck[attendrespcheck.isna()]\n",
    "for subject, count in attendrespcheck.items():\n",
    "    if count > 0.1 * ntrials[subject] / 3:\n",
    "        print(f\"exclude subject {subject} no response to attend\")\n",
    "\n",
    "# Responded to more than 10% of the distractors in the ignore-distractor condition\n",
    "ignorerespcheck = V11[V11['distractor'] == 'ignore'].groupby('subject')['dist'].count()\n",
    "ignorerespcheck = ignorerespcheck[ignorerespcheck.isna()]\n",
    "for subject, count in ignorerespcheck.items():\n",
    "    if count < 0.9 * ntrials[subject] / 3:\n",
    "        print(f\"exclude subject {subject} response to ignore\")\n",
    "\n",
    "# Responded to at least 90% of the targets\n",
    "nonrespcheck = V11.groupby('subject')['resp'].count()\n",
    "nonrespcheck = nonrespcheck[nonrespcheck.isna()]\n",
    "for subject, count in nonrespcheck.items():\n",
    "    if count > 0.1 * ntrials[subject]:\n",
    "        print(f\"exclude subject {subject} no response to target\")\n",
    "\n",
    "# Subjects will be removed if there is evidence for responses clustered around the orientation of the distractor\n",
    "# Instead of around the memory target, a cluster of responses around the distractor orientation suggests non-compliance with task instructions.\n",
    "taskcheck = V11.dropna(subset=['distractorori', 'resp'])\n",
    "\n",
    "# The average measured performance error is greater than 49 degrees\n",
    "perfcheck = taskcheck.groupby('subject').agg(\n",
    "    circ_mean=('acc', lambda x: circmean(x * np.pi / 180)),\n",
    "    circ_std=('acc', lambda x: circstd(x * np.pi / 180))\n",
    ")\n",
    "perfcheck = perfcheck[perfcheck['circ_std'] * 180 / np.pi > 49]\n",
    "for subject in perfcheck.index:\n",
    "    print(f\"exclude subject {subject} large behavior error\")\n",
    "\n",
    "# Clean up\n",
    "del attendrespcheck, ignorerespcheck, ntrials, taskcheck, perfcheck, nonrespcheck\n",
    "\n",
    "# Create scatter plot (You might need to customize this part)\n",
    "plt.scatter(V11['distractorori'], V11['resp'])\n",
    "plt.xlabel(\"Distractor (degrees)\")\n",
    "plt.ylabel(\"Response (degrees)\")\n",
    "plt.show()"
   ]
  },
  {
   "cell_type": "code",
   "execution_count": null,
   "id": "246354ed",
   "metadata": {},
   "outputs": [],
   "source": []
  }
 ],
 "metadata": {
  "kernelspec": {
   "display_name": "Python 3",
   "language": "python",
   "name": "python3"
  },
  "language_info": {
   "codemirror_mode": {
    "name": "ipython",
    "version": 3
   },
   "file_extension": ".py",
   "mimetype": "text/x-python",
   "name": "python",
   "nbconvert_exporter": "python",
   "pygments_lexer": "ipython3",
   "version": "3.8.8"
  }
 },
 "nbformat": 4,
 "nbformat_minor": 5
}

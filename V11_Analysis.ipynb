{
 "cells": [
  {
   "cell_type": "markdown",
   "id": "0aa8a463",
   "metadata": {},
   "source": [
    "# Analysis for WM_NoiseV11\n",
    "- (1) data quality and subject check\n",
    "- (2) explore differences between subjects who passed/failed quality checks \n",
    "- (3) circular statistics\n",
    "### HKular 11.7.23"
   ]
  },
  {
   "cell_type": "markdown",
   "id": "6b9e721a",
   "metadata": {},
   "source": [
    "# Import libraries and load data, some data wrangling"
   ]
  },
  {
   "cell_type": "code",
   "execution_count": 1,
   "id": "93fb7145",
   "metadata": {},
   "outputs": [],
   "source": [
    "## Import libraries\n",
    "import pandas as pd\n",
    "import numpy as np\n",
    "import matplotlib.pyplot as plt\n",
    "import seaborn as sns\n",
    "import scipy\n",
    "import os\n",
    "\n",
    "# Get the user's login name\n",
    "login_name = os.environ.get('USER', os.environ.get('USERNAME'))\n",
    "# Set the working directory\n",
    "directory_path = f'/Users/{login_name}/Documents/Github/noisefx/Starburst_V11'\n",
    "os.chdir(directory_path)\n",
    "\n",
    "# Load data\n",
    "V11 = pd.read_csv('WM_noiseV11.csv') # good subjects\n",
    "V11b = pd.read_csv('WM_noiseV11_bad.csv') # bad subjects to compare\n",
    "\n",
    "# Make numerical values that are factors actually factors\n",
    "factor_mapping = {\n",
    "    'distractor': {1: 'none', 2: 'ignore', 3: 'attend'},\n",
    "    'kappa': {100: 'high', 5000: 'low'},\n",
    "    'change': {10: 'ccw', -10: 'cw'},\n",
    "    'dist': {114: 'ccw', 112: 'ccw', 117: 'cw', 115: 'cw'}\n",
    "}\n",
    "\n",
    "V11.replace(factor_mapping, inplace=True)\n",
    "V11b.replace(factor_mapping, inplace=True)\n"
   ]
  },
  {
   "cell_type": "markdown",
   "id": "aa7645e1",
   "metadata": {},
   "source": [
    "# (1) Individual subject quality check"
   ]
  },
  {
   "cell_type": "code",
   "execution_count": 3,
   "id": "e37959a9",
   "metadata": {},
   "outputs": [],
   "source": [
    "## If they withdraw from the experiment before completing all trials (n = 576)\n",
    "ntrials = V11['subject'].value_counts()\n",
    "# V11 = V11[~V11['subject'].isin(insert attrition here)]\n",
    "\n",
    "# Responded to at least 90% of the distractors in the attend-distractor condition\n",
    "attendrespcheck = V11[V11['distractor'] == 'attend'].groupby('subject')['dist'].count()\n",
    "attendrespcheck = attendrespcheck[attendrespcheck.isna()]\n",
    "for subject, count in attendrespcheck.items():\n",
    "    if count > 0.1 * ntrials[subject] / 3:\n",
    "        print(f\"exclude subject {subject} no response to attend\")\n",
    "  "
   ]
  },
  {
   "cell_type": "code",
   "execution_count": 5,
   "id": "9590f5aa",
   "metadata": {},
   "outputs": [],
   "source": [
    "      \n",
    "# Responded to more than 10% of the distractors in the ignore-distractor condition\n",
    "ignorerespcheck = V11[V11['distractor'] == 'ignore'].groupby('subject')['dist'].count()\n",
    "ignorerespcheck = ignorerespcheck[ignorerespcheck.isna()]\n",
    "for subject, count in ignorerespcheck.items():\n",
    "    if count < 0.9 * ntrials[subject] / 3:\n",
    "        print(f\"exclude subject {subject} response to ignore\")\n"
   ]
  },
  {
   "cell_type": "code",
   "execution_count": 6,
   "id": "ff205e6b",
   "metadata": {},
   "outputs": [],
   "source": [
    "\n",
    "# Responded to at least 90% of the targets\n",
    "nonrespcheck = V11.groupby('subject')['resp'].count()\n",
    "nonrespcheck = nonrespcheck[nonrespcheck.isna()]\n",
    "for subject, count in nonrespcheck.items():\n",
    "    if count > 0.1 * ntrials[subject]:\n",
    "        print(f\"exclude subject {subject} no response to target\")\n"
   ]
  },
  {
   "cell_type": "code",
   "execution_count": 11,
   "id": "0e4a24f9",
   "metadata": {},
   "outputs": [],
   "source": [
    "from IPython.display import display"
   ]
  },
  {
   "cell_type": "code",
   "execution_count": 16,
   "id": "aea0f9a2",
   "metadata": {},
   "outputs": [
    {
     "data": {
      "text/plain": [
       "<Figure size 1296x288 with 0 Axes>"
      ]
     },
     "metadata": {},
     "output_type": "display_data"
    }
   ],
   "source": [
    "# Subjects will be removed if there is evidence for responses clustered around the orientation of the distractor\n",
    "# Instead of around the memory target, a cluster of responses around the distractor orientation suggests non-compliance with task instructions.\n",
    "# Filter data\n",
    "taskcheck = V11.dropna(subset=['distractorori', 'resp'])\n",
    "\n",
    "# Set the figure style\n",
    "plt.figure(figsize=(18, 4))\n",
    "sns.set(style=\"whitegrid\")\n",
    "\n",
    "\n",
    "# Create scatter plot with facets\n",
    "g = sns.FacetGrid(taskcheck, col=\"subject\", col_wrap= 6, height=6)\n",
    "g.map_dataframe(plt.scatter, \"distractorori\", \"resp\", alpha=.7, s=10)\n",
    "\n",
    "# Set x-axis labels and tick marks\n",
    "g.set(xticks=[0, 45, 90, 135, 180], xticklabels=[\"0°\", \"45°\", \"90°\", \"135°\", \"180°\"], xlim=(0, 180))\n",
    "\n",
    "# Set y-axis labels and tick marks\n",
    "g.set(yticks=[20, 40, 60, 80, 100, 120, 140, 160], yticklabels=[\"20°\", \"40°\", \"60°\", \"80°\", \"100°\", \"120°\", \"140°\", \"160°\"], ylim=(0, 180))\n",
    "\n",
    "# Add x-axis and y-axis titles\n",
    "g.set_axis_labels(\"Distractor (degrees)\", \"Response (degrees)\")\n",
    "\n",
    "# Optionally display the plot\n",
    "#display(plt.gcf())\n",
    "\n",
    "# Optionally save the plot to a file\n",
    "# plt.savefig(\"scatter_plot.png\")\n",
    "\n",
    "# Optionally close the plot window\n",
    "plt.close()"
   ]
  },
  {
   "cell_type": "code",
   "execution_count": 17,
   "id": "5377f8de",
   "metadata": {},
   "outputs": [],
   "source": [
    "\n",
    "# Is the average measured performance error is greater than 49 degrees\n",
    "from scipy.stats import circmean\n",
    "from scipy.stats import circstd\n",
    "perfcheck = V11.groupby('subject').agg(\n",
    "    circ_mean=('acc', lambda x: circmean(x * np.pi / 180)),\n",
    "    circ_std=('acc', lambda x: circstd(x * np.pi / 180))\n",
    ")\n",
    "perfcheck = perfcheck[perfcheck['circ_std'] * 180 / np.pi > 49]\n",
    "for subject in perfcheck.index:\n",
    "    print(f\"exclude subject {subject} large behavior error\")\n",
    "       "
   ]
  },
  {
   "cell_type": "markdown",
   "id": "5f2a2850",
   "metadata": {},
   "source": [
    "# (2) Pass/fail comparison\n",
    "- reaction times\n",
    "- timing of missed responses\n",
    "- response accuracies for distractor response"
   ]
  },
  {
   "cell_type": "code",
   "execution_count": 87,
   "id": "4819f931",
   "metadata": {},
   "outputs": [],
   "source": [
    "# check RTs\n",
    "from scipy.stats import ttest_ind\n",
    "\n",
    "# Check RTs for target\n",
    "targRT = V11.dropna(subset=['resp']).groupby('subject')['targRT'].agg(['mean', 'std']).reset_index()\n",
    "targRTavg = targRT['mean'].mean()\n",
    "targRTb = V11b.dropna(subset=['resp']).groupby('subject')['targRT'].agg(['mean', 'std']).reset_index()\n",
    "targRTavgb = targRTb['mean'].mean()\n",
    "\n",
    "# Check RTs for distractor response\n",
    "distRT = V11.dropna(subset=['resp']).groupby('subject')['distRT'].agg(['mean', 'std']).reset_index()\n",
    "distRTavg = distRT['mean'].mean()\n",
    "distRTb = V11b.dropna(subset=['resp']).groupby('subject')['distRT'].agg(['mean', 'std']).reset_index()\n",
    "\n",
    "distRTavgb = distRTb['mean'].mean()\n",
    "\n",
    "# Compare with two-sample t-test\n",
    "distRTtest_results = ttest_ind(distRT['mean'], distRTb['mean'], equal_var=False)\n",
    "targRTtest_results = ttest_ind(targRT['mean'], targRTb['mean'], equal_var=False)\n"
   ]
  },
  {
   "cell_type": "code",
   "execution_count": 23,
   "id": "5b452a23",
   "metadata": {},
   "outputs": [],
   "source": [
    "# Look at when misses were, early? later blocks? middle blocks?\n",
    "# Filter (attend trials) plot block and counts\n",
    "V11b['trial'] = V11b.groupby('subject').cumcount() + 1\n",
    "V11b['block'] = np.tile(np.repeat(np.arange(1, 25), 24), len(V11b) // (24*24))\n",
    "\n",
    "nan_count = V11b[V11b['distractorname'] == 'attend'].groupby('block')['distRT'].apply(lambda x: sum(x.isna())).reset_index()\n",
    "\n",
    "sns.lineplot(x='block', y='distRT', data=nan_count)\n",
    "plt.xlabel(\"Block Number\")\n",
    "plt.ylabel(\"NaN Count\")\n",
    "plt.title(\"No response to attend V11b\")\n",
    "#plt.show()\n",
    "\n",
    "# Look at when good subs miss attend response\n",
    "V11['block'] = np.tile(np.repeat(np.arange(1, 25), 24), len(V11) // (24*24))# 24 is number of blocks in the experiment\n",
    "\n",
    "nan_count_g = V11[V11['distractorname'] == 'attend'].groupby('block')['distRT'].apply(lambda x: sum(x.isna())).reset_index()\n",
    "\n",
    "sns.lineplot(x='block', y='distRT', data=nan_count_g)\n",
    "plt.xlabel(\"Block Number\")\n",
    "plt.ylabel(\"NaN Count\")\n",
    "plt.title(\"No response to attend V11\")\n",
    "#plt.show()\n",
    "\n",
    "# Optionally close the plot window\n",
    "plt.close()"
   ]
  },
  {
   "cell_type": "code",
   "execution_count": 25,
   "id": "a18bccb2",
   "metadata": {},
   "outputs": [],
   "source": [
    "# compare the distractor response accuracies across good and bad subjects\n",
    "dist_accb = (\n",
    "    V11b[V11b['distractorname'] != 'none']\n",
    "    .dropna(subset=['distRT', 'dist', 'change'])\n",
    "    .groupby('subject')\n",
    "    .apply(lambda group: pd.Series({\n",
    "        'count': (group['dist'] == group['change']).sum(),\n",
    "        'total': group['change'].count()\n",
    "    }))\n",
    ")\n",
    "\n",
    "\n",
    "dist_acc = V11[V11['distractorname'] != 'none'].dropna(subset=['distRT']).groupby('subject').apply(lambda group: pd.Series({\n",
    "        'count': (group['dist'] == group['change']).sum(),\n",
    "        'total': group['change'].count()\n",
    "    }))\n",
    "\n",
    "dist_acc['group'] = 'Good'\n",
    "dist_accb['group'] = 'Bad'\n",
    "\n",
    "# Concatenate the DataFrames\n",
    "plot_data = pd.concat([dist_acc, dist_accb])\n",
    "plot_data['count/total'] = plot_data['count'] / plot_data['total']\n",
    "\n",
    "# Plot distractor accuracy against chance\n",
    "sns.boxplot(x='group', y='count/total', data=plot_data, palette=['lightblue', 'pink'])\n",
    "sns.swarmplot(x='group', y='count/total', data=plot_data, color='blue', marker='o', alpha=0.7)\n",
    "\n",
    "# Add the horizontal dashed line and label\n",
    "plt.axhline(0.5, linestyle='--', color='purple')\n",
    "plt.text(1.5, 0.5, 'chance', va='center', ha='left', color='purple')\n",
    "\n",
    "# Set labels and title\n",
    "plt.xlabel(\"Subjects\")\n",
    "plt.ylabel(\"Accuracy\")\n",
    "plt.title(\"Distractor response accuracy\")\n",
    "\n",
    "#plt.show()\n",
    "plt.close()"
   ]
  },
  {
   "cell_type": "markdown",
   "id": "94861c3e",
   "metadata": {},
   "source": [
    "# (3) Circular statistics"
   ]
  },
  {
   "cell_type": "code",
   "execution_count": 95,
   "id": "19c918b4",
   "metadata": {},
   "outputs": [],
   "source": [
    "def circ_vector(x):\n",
    "    return np.mean(np.exp(x*1j)) \n",
    "def circ_mean(x): # assumes full circle in radians\n",
    "    return np.angle(circ_vector(x))\n",
    "def circ_sd(x): # assumes full circle in radians\n",
    "    unit_vectors = np.array([np.cos(x), np.sin(x)])\n",
    "    angles = (np.arctan2(unit_vectors[1], unit_vectors[0]))\n",
    "    return np.std(angles)"
   ]
  },
  {
   "cell_type": "code",
   "execution_count": null,
   "id": "1c1d6cb2",
   "metadata": {},
   "outputs": [],
   "source": [
    "# Calculate circstats\n",
    "V11 = V11.dropna(subset=['resp'])# filter out NaNs\n",
    "V11['acc_rad'] = np.radians(V11['acc'])\n",
    "dfV11_circstats = V11.groupby(['subject', 'kappa', 'distractor']).agg(\n",
    "    circ_mean=('acc_rad', lambda x: circ_mean(x)),\n",
    "    circ_sd=('acc_rad', lambda x: circ_sd(x)),\n",
    ").reset_index()\n",
    "\n",
    "\n",
    "dfV11_circstats['id'] = dfV11_circstats['subject'].astype('category')\n",
    "\n",
    "n_subj = len(dfV11_circstats['subject'].unique())\n",
    "\n",
    "\n",
    "# Calculate summary statistics for plotting\n",
    "dfV11_circstats_plt = dfV11_circstats.groupby(['kappa', 'distractor']).agg(\n",
    "    mean_sd=('circ_sd', 'mean'),\n",
    "    sd_sd=('circ_sd', 'std'),\n",
    "    se_sd=('circ_sd', lambda x: np.std(x) / np.sqrt(n_subj)),\n",
    ").reset_index()"
   ]
  },
  {
   "cell_type": "code",
   "execution_count": 104,
   "id": "650053db",
   "metadata": {},
   "outputs": [
    {
     "data": {
      "image/png": "[encoded data removed]",
      "text/plain": [
       "<Figure size 432x288 with 1 Axes>"
      ]
     },
     "metadata": {},
     "output_type": "display_data"
    }
   ],
   "source": [
    "ax = sns.barplot(x = 'distractor', y = 'mean_sd_deg', hue = 'kappa', data = dfV11_circstats_plt)\n",
    "ax.set_ylabel(\"Error (°)\", fontsize=16)\n",
    "ax.tick_params(axis='y', labelsize=16)\n",
    "ax.set_xlabel(\"Distractor\", fontsize=16)\n",
    "ax.set_xticklabels(['None', 'Ignore', 'Attend'], fontsize=16)\n",
    "labels = ['High', 'Low']\n",
    "h, l = ax.get_legend_handles_labels()\n",
    "ax.legend(h, labels, title=\"Stimulus Noise\", title_fontsize = 15, fontsize = 16, loc = 'lower center', bbox_to_anchor=(1.2, .2))\n",
    "sns.despine(top = True)"
   ]
  },
  {
   "cell_type": "markdown",
   "id": "9a4d644d",
   "metadata": {},
   "source": [
    "# (4) Bayes mixed effects anova"
   ]
  },
  {
   "cell_type": "code",
   "execution_count": null,
   "id": "c9be4aa8",
   "metadata": {},
   "outputs": [],
   "source": [
    "# Bayes factor repeated measure anova\n"
   ]
  }
 ],
 "metadata": {
  "kernelspec": {
   "display_name": "Python 3",
   "language": "python",
   "name": "python3"
  },
  "language_info": {
   "codemirror_mode": {
    "name": "ipython",
    "version": 3
   },
   "file_extension": ".py",
   "mimetype": "text/x-python",
   "name": "python",
   "nbconvert_exporter": "python",
   "pygments_lexer": "ipython3",
   "version": "3.8.8"
  }
 },
 "nbformat": 4,
 "nbformat_minor": 5
}

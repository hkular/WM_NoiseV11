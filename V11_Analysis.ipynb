{
 "cells": [
  {
   "cell_type": "markdown",
   "id": "0aa8a463",
   "metadata": {},
   "source": [
    "# Analysis for WM_NoiseV11\n",
    "- (1) data quality and subject check\n",
    "- (2) explore differences between subjects who passed/failed quality checks \n",
    "- (3) circular statistics\n",
    "- (4) Bayes repeated measures ANOVA\n",
    "### HKular 11.7.23"
   ]
  },
  {
   "cell_type": "markdown",
   "id": "6b9e721a",
   "metadata": {},
   "source": [
    "# Import libraries and load data, some data wrangling"
   ]
  },
  {
   "cell_type": "code",
   "execution_count": 1,
   "id": "93fb7145",
   "metadata": {
    "tags": []
   },
   "outputs": [],
   "source": [
    "## Import libraries\n",
    "import pandas as pd\n",
    "import numpy as np\n",
    "import matplotlib.pyplot as plt\n",
    "import seaborn as sns\n",
    "import scipy\n",
    "import os\n",
    "from IPython.display import display\n",
    "\n",
    "# Get the user's login name\n",
    "login_name = os.environ.get('USER', os.environ.get('USERNAME'))\n",
    "# Set the working directory\n",
    "directory_path = f'/Users/{login_name}/Documents/Github/noisefx/Starburst_V11'\n",
    "os.chdir(directory_path)\n",
    "\n",
    "# Load data\n",
    "V11 = pd.read_csv('WM_noiseV11.csv') # good subjects\n",
    "V11b = pd.read_csv('WM_noiseV11_bad.csv') # bad subjects to compare\n",
    "\n",
    "# Make numerical values that are factors actually factors\n",
    "factor_mapping = {\n",
    "    'distractor': {1: 'none', 2: 'ignore', 3: 'attend'},\n",
    "    'kappa': {100: 'high', 5000: 'low'},\n",
    "    'change': {10: 'ccw', -10: 'cw'},\n",
    "    'dist': {114: 'ccw', 112: 'ccw', 117: 'cw', 115: 'cw'}\n",
    "}\n",
    "\n",
    "V11.replace(factor_mapping, inplace=True)\n",
    "V11b.replace(factor_mapping, inplace=True)\n"
   ]
  },
  {
   "cell_type": "markdown",
   "id": "aa7645e1",
   "metadata": {},
   "source": [
    "# (1) Individual subject quality check"
   ]
  },
  {
   "cell_type": "code",
   "execution_count": 2,
   "id": "e37959a9",
   "metadata": {},
   "outputs": [],
   "source": [
    "## If they withdraw from the experiment before completing all trials (n = 576)\n",
    "ntrials = V11['subject'].value_counts()\n",
    "# V11 = V11[~V11['subject'].isin(insert attrition here)]\n",
    "\n",
    "# Responded to at least 90% of the distractors in the attend-distractor condition\n",
    "attendrespcheck = V11[V11['distractor'] == 'attend'].groupby('subject')['dist'].count()\n",
    "attendrespcheck = attendrespcheck[attendrespcheck.isna()]\n",
    "for subject, count in attendrespcheck.items():\n",
    "    if count > 0.1 * ntrials[subject] / 3:\n",
    "        print(f\"exclude subject {subject} no response to attend\")\n",
    "  "
   ]
  },
  {
   "cell_type": "code",
   "execution_count": 3,
   "id": "9590f5aa",
   "metadata": {},
   "outputs": [],
   "source": [
    "# Responded to more than 10% of the distractors in the ignore-distractor condition\n",
    "ignorerespcheck = V11[V11['distractor'] == 'ignore'].groupby('subject')['dist'].count()\n",
    "ignorerespcheck = ignorerespcheck[ignorerespcheck.isna()]\n",
    "for subject, count in ignorerespcheck.items():\n",
    "    if count < 0.9 * ntrials[subject] / 3:\n",
    "        print(f\"exclude subject {subject} response to ignore\")\n"
   ]
  },
  {
   "cell_type": "code",
   "execution_count": 4,
   "id": "ff205e6b",
   "metadata": {},
   "outputs": [],
   "source": [
    "# Responded to at least 90% of the targets\n",
    "nonrespcheck = V11.groupby('subject')['resp'].count()\n",
    "nonrespcheck = nonrespcheck[nonrespcheck.isna()]\n",
    "for subject, count in nonrespcheck.items():\n",
    "    if count > 0.1 * ntrials[subject]:\n",
    "        print(f\"exclude subject {subject} no response to target\")\n"
   ]
  },
  {
   "cell_type": "code",
   "execution_count": 6,
   "id": "aea0f9a2",
   "metadata": {},
   "outputs": [
    {
     "data": {
      "text/plain": [
       "<Figure size 1296x288 with 0 Axes>"
      ]
     },
     "metadata": {},
     "output_type": "display_data"
    }
   ],
   "source": [
    "# Subjects will be removed if there is evidence for responses clustered around the orientation of the distractor\n",
    "# Instead of around the memory target, a cluster of responses around the distractor orientation suggests non-compliance with task instructions.\n",
    "# Filter data\n",
    "taskcheck = V11.dropna(subset=['distractorori', 'resp'])\n",
    "\n",
    "# Set the figure style\n",
    "plt.figure(figsize=(18, 4))\n",
    "sns.set(style=\"whitegrid\")\n",
    "\n",
    "\n",
    "# Create scatter plot with facets\n",
    "g = sns.FacetGrid(taskcheck, col=\"subject\", col_wrap= 6, height=6)\n",
    "g.map_dataframe(plt.scatter, \"distractorori\", \"resp\", alpha=.7, s=10)\n",
    "\n",
    "# Set x-axis labels and tick marks\n",
    "g.set(xticks=[0, 45, 90, 135, 180], xticklabels=[\"0°\", \"45°\", \"90°\", \"135°\", \"180°\"], xlim=(0, 180))\n",
    "\n",
    "# Set y-axis labels and tick marks\n",
    "g.set(yticks=[20, 40, 60, 80, 100, 120, 140, 160], yticklabels=[\"20°\", \"40°\", \"60°\", \"80°\", \"100°\", \"120°\", \"140°\", \"160°\"], ylim=(0, 180))\n",
    "\n",
    "# Add x-axis and y-axis titles\n",
    "g.set_axis_labels(\"Distractor (degrees)\", \"Response (degrees)\")\n",
    "\n",
    "# Optionally display the plot\n",
    "#display(plt.gcf())\n",
    "\n",
    "# Optionally save the plot to a file\n",
    "# plt.savefig(\"scatter_plot.png\")\n",
    "\n",
    "# Optionally close the plot window\n",
    "plt.close()"
   ]
  },
  {
   "cell_type": "code",
   "execution_count": 2,
   "id": "5377f8de",
   "metadata": {},
   "outputs": [],
   "source": [
    "# Is the average measured performance error is greater than 49 degrees\n",
    "from scipy.stats import circmean\n",
    "from scipy.stats import circstd\n",
    "perfcheck = V11.groupby('subject').agg(\n",
    "    circ_mean=('acc', lambda x: circmean(x * np.pi / 180)),\n",
    "    circ_std=('acc', lambda x: circstd(x * np.pi / 180))\n",
    ")\n",
    "perfcheck = perfcheck[perfcheck['circ_std'] * 180 / np.pi > 49]\n",
    "for subject in perfcheck.index:\n",
    "    print(f\"exclude subject {subject} large behavior error\")\n",
    "       "
   ]
  },
  {
   "cell_type": "markdown",
   "id": "5f2a2850",
   "metadata": {},
   "source": [
    "# (2) Pass/fail comparison\n",
    "- reaction times\n",
    "- timing of missed responses\n",
    "- response accuracies for distractor response"
   ]
  },
  {
   "cell_type": "code",
   "execution_count": 7,
   "id": "4819f931",
   "metadata": {},
   "outputs": [],
   "source": [
    "# check RTs\n",
    "from scipy.stats import ttest_ind\n",
    "\n",
    "# Check RTs for target\n",
    "targRT = V11.dropna(subset=['resp']).groupby('subject')['targRT'].agg(['mean', 'std']).reset_index()\n",
    "targRTavg = targRT['mean'].mean()\n",
    "targRTb = V11b.dropna(subset=['resp']).groupby('subject')['targRT'].agg(['mean', 'std']).reset_index()\n",
    "targRTavgb = targRTb['mean'].mean()\n",
    "\n",
    "# Check RTs for distractor response\n",
    "distRT = V11.dropna(subset=['resp']).groupby('subject')['distRT'].agg(['mean', 'std']).reset_index()\n",
    "distRTavg = distRT['mean'].mean()\n",
    "distRTb = V11b.dropna(subset=['resp']).groupby('subject')['distRT'].agg(['mean', 'std']).reset_index()\n",
    "\n",
    "distRTavgb = distRTb['mean'].mean()\n",
    "\n",
    "# Compare with two-sample t-test\n",
    "distRTtest_results = ttest_ind(distRT['mean'], distRTb['mean'], equal_var=False)\n",
    "targRTtest_results = ttest_ind(targRT['mean'], targRTb['mean'], equal_var=False)\n"
   ]
  },
  {
   "cell_type": "code",
   "execution_count": 9,
   "id": "5b452a23",
   "metadata": {},
   "outputs": [],
   "source": [
    "# Look at when misses were, early? later blocks? middle blocks?\n",
    "# Filter (attend trials) plot block and counts\n",
    "V11b['trial'] = V11b.groupby('subject').cumcount() + 1\n",
    "V11b['block'] = np.tile(np.repeat(np.arange(1, 25), 24), len(V11b) // (24*24))\n",
    "\n",
    "nan_count = V11b[V11b['distractorname'] == 'attend'].groupby('block')['distRT'].apply(lambda x: sum(x.isna())).reset_index()\n",
    "\n",
    "sns.lineplot(x='block', y='distRT', data=nan_count)\n",
    "plt.xlabel(\"Block Number\")\n",
    "plt.ylabel(\"NaN Count\")\n",
    "plt.title(\"No response to attend V11b\")\n",
    "#plt.show()\n",
    "\n",
    "# Look at when good subs miss attend response\n",
    "V11['block'] = np.tile(np.repeat(np.arange(1, 25), 24), len(V11) // (24*24))# 24 is number of blocks in the experiment\n",
    "\n",
    "nan_count_g = V11[V11['distractorname'] == 'attend'].groupby('block')['distRT'].apply(lambda x: sum(x.isna())).reset_index()\n",
    "\n",
    "sns.lineplot(x='block', y='distRT', data=nan_count_g)\n",
    "plt.xlabel(\"Block Number\")\n",
    "plt.ylabel(\"NaN Count\")\n",
    "plt.title(\"No response to attend V11\")\n",
    "#plt.show()\n",
    "\n",
    "# Optionally close the plot window\n",
    "plt.close()"
   ]
  },
  {
   "cell_type": "code",
   "execution_count": 10,
   "id": "a18bccb2",
   "metadata": {},
   "outputs": [],
   "source": [
    "# compare the distractor response accuracies across good and bad subjects\n",
    "dist_accb = (\n",
    "    V11b[V11b['distractorname'] != 'none']\n",
    "    .dropna(subset=['distRT', 'dist', 'change'])\n",
    "    .groupby('subject')\n",
    "    .apply(lambda group: pd.Series({\n",
    "        'count': (group['dist'] == group['change']).sum(),\n",
    "        'total': group['change'].count()\n",
    "    }))\n",
    ")\n",
    "\n",
    "\n",
    "dist_acc = V11[V11['distractorname'] != 'none'].dropna(subset=['distRT']).groupby('subject').apply(lambda group: pd.Series({\n",
    "        'count': (group['dist'] == group['change']).sum(),\n",
    "        'total': group['change'].count()\n",
    "    }))\n",
    "\n",
    "dist_acc['group'] = 'Good'\n",
    "dist_accb['group'] = 'Bad'\n",
    "\n",
    "# Concatenate the DataFrames\n",
    "plot_data = pd.concat([dist_acc, dist_accb])\n",
    "plot_data['count/total'] = plot_data['count'] / plot_data['total']\n",
    "\n",
    "# Plot distractor accuracy against chance\n",
    "sns.boxplot(x='group', y='count/total', data=plot_data, palette=['lightblue', 'pink'])\n",
    "sns.swarmplot(x='group', y='count/total', data=plot_data, color='blue', marker='o', alpha=0.7)\n",
    "\n",
    "# Add the horizontal dashed line and label\n",
    "plt.axhline(0.5, linestyle='--', color='purple')\n",
    "plt.text(1.5, 0.5, 'chance', va='center', ha='left', color='purple')\n",
    "\n",
    "# Set labels and title\n",
    "plt.xlabel(\"Subjects\")\n",
    "plt.ylabel(\"Accuracy\")\n",
    "plt.title(\"Distractor response accuracy\")\n",
    "\n",
    "#plt.show()\n",
    "plt.close()"
   ]
  },
  {
   "cell_type": "markdown",
   "id": "94861c3e",
   "metadata": {},
   "source": [
    "# (3) Circular statistics"
   ]
  },
  {
   "cell_type": "code",
   "execution_count": 3,
   "id": "19c918b4",
   "metadata": {
    "tags": []
   },
   "outputs": [],
   "source": [
    "def circ_vector(x):\n",
    "    return np.mean(np.exp(x*1j)) \n",
    "def circ_mean(x): # assumes full circle in radians\n",
    "    return np.angle(circ_vector(x))\n",
    "def circ_sd(x): # assumes full circle in radians\n",
    "    unit_vectors = np.array([np.cos(x), np.sin(x)])\n",
    "    angles = (np.arctan2(unit_vectors[1], unit_vectors[0]))\n",
    "    return np.std(angles)"
   ]
  },
  {
   "cell_type": "code",
   "execution_count": 4,
   "id": "1c1d6cb2",
   "metadata": {
    "tags": []
   },
   "outputs": [],
   "source": [
    "# Calculate circstats\n",
    "V11 = V11.dropna(subset=['resp'])# filter out NaNs\n",
    "V11['acc_rad'] = np.radians(V11['acc'])\n",
    "dfV11_circstats = V11.groupby(['subject', 'kappa', 'distractor']).agg(\n",
    "    circ_mean=('acc_rad', lambda x: circ_mean(x)),\n",
    "    circ_sd=('acc_rad', lambda x: circ_sd(x)),\n",
    ").reset_index()\n",
    "\n",
    "\n",
    "dfV11_circstats['subject'] = dfV11_circstats['subject'].astype('category')\n",
    "dfV11_circstats['kappa'] = dfV11_circstats['kappa'].astype('category')\n",
    "dfV11_circstats['distractor'] = dfV11_circstats['distractor'].astype('category')\n",
    "\n",
    "n_subj = len(dfV11_circstats['subject'].unique())\n",
    "\n",
    "\n",
    "# Calculate summary statistics for plotting\n",
    "dfV11_circstats_plt = dfV11_circstats.groupby(['kappa', 'distractor']).agg(\n",
    "    mean_sd=('circ_sd', 'mean'),\n",
    "    sd_sd=('circ_sd', 'std'),\n",
    "    se_sd=('circ_sd', lambda x: np.std(x) / np.sqrt(n_subj)),\n",
    ").reset_index()"
   ]
  },
  {
   "cell_type": "code",
   "execution_count": 5,
   "id": "650053db",
   "metadata": {},
   "outputs": [
    {
     "data": {
      "image/png": "[encoded data removed]",
      "text/plain": [
       "<Figure size 432x288 with 1 Axes>"
      ]
     },
     "metadata": {
      "needs_background": "light"
     },
     "output_type": "display_data"
    }
   ],
   "source": [
    "dfV11_circstats_plt['mean_sd_deg'] = dfV11_circstats_plt['mean_sd'] * 180/np.pi\n",
    "ax = sns.barplot(x = 'distractor', y = 'mean_sd_deg', hue = 'kappa', data = dfV11_circstats_plt)\n",
    "ax.set_ylabel(\"Error (°)\", fontsize=16)\n",
    "ax.tick_params(axis='y', labelsize=16)\n",
    "ax.set_xlabel(\"Distractor\", fontsize=16)\n",
    "ax.set_xticklabels(['None', 'Ignore', 'Attend'], fontsize=16)\n",
    "labels = ['High', 'Low']\n",
    "h, l = ax.get_legend_handles_labels()\n",
    "ax.legend(h, labels, title=\"Stimulus Noise\", title_fontsize = 15, fontsize = 16, loc = 'lower center', bbox_to_anchor=(1.2, .2))\n",
    "sns.despine(top = True)"
   ]
  },
  {
   "cell_type": "markdown",
   "id": "9a4d644d",
   "metadata": {},
   "source": [
    "# (4) Bayes repeated measures anova in R\n",
    " based on Rouder et al. 2012"
   ]
  },
  {
   "cell_type": "code",
   "execution_count": 2,
   "id": "7ac6a864-f49c-4b4e-8eec-9f25289b5f16",
   "metadata": {},
   "outputs": [
    {
     "name": "stderr",
     "output_type": "stream",
     "text": [
      "Unable to determine R library path: Command '('/Users/hkular/opt/anaconda3/lib/R/bin/Rscript', '-e', 'cat(Sys.getenv(\"LD_LIBRARY_PATH\"))')' died with <Signals.SIGABRT: 6>.\n"
     ]
    },
    {
     "ename": "OSError",
     "evalue": "cannot load library '/Users/hkular/opt/anaconda3/lib/R/lib/libR.dylib': dlopen(/Users/hkular/opt/anaconda3/lib/R/lib/libR.dylib, 0x0002): Library not loaded: @rpath/libreadline.6.2.dylib\n  Referenced from: <185433D7-8B40-31AA-8BD9-465D23C57257> /Users/hkular/opt/anaconda3/lib/R/lib/libR.dylib\n  Reason: tried: '/Users/hkular/opt/anaconda3/lib/R/lib/../../libreadline.6.2.dylib' (no such file), '/Users/hkular/opt/anaconda3/lib/R/lib/../../libreadline.6.2.dylib' (no such file), '/Users/hkular/opt/anaconda3/lib/libreadline.6.2.dylib' (no such file), '/System/Volumes/Preboot/Cryptexes/OS/Users/hkular/opt/anaconda3/lib/libreadline.6.2.dylib' (no such file), '/Users/hkular/opt/anaconda3/lib/libreadline.6.2.dylib' (no such file), '/System/Volumes/Preboot/Cryptexes/OS/Users/hkular/opt/anaconda3/lib/libreadline.6.2.dylib' (no such file), '/Users/hkular/opt/anaconda3/lib/python3.8/site-packages/../../libreadline.6.2.dylib' (no such file), '/Users/hkular/opt/anaconda3/lib/libreadline.6.2.dylib' (no such file), '/System/Volumes/Preboot/Cryptexes/OS/Users/hkular/opt/anaconda3/lib/libreadline.6.2.dylib' (no such file), '/Users/hkular/opt/anaconda3/bin/../lib/libreadline.6.2.dylib' (no such file), '/usr/local/lib/libreadline.6.2.dylib' (no such file), '/usr/lib/libreadline.6.2.dylib' (no such file, not in dyld cache)",
     "output_type": "error",
     "traceback": [
      "\u001b[0;31m---------------------------------------------------------------------------\u001b[0m",
      "\u001b[0;31mOSError\u001b[0m                                   Traceback (most recent call last)",
      "\u001b[0;32m<ipython-input-2-7126574a497b>\u001b[0m in \u001b[0;36m<module>\u001b[0;34m\u001b[0m\n\u001b[0;32m----> 1\u001b[0;31m \u001b[0;32mfrom\u001b[0m \u001b[0mrpy2\u001b[0m\u001b[0;34m.\u001b[0m\u001b[0mrobjects\u001b[0m \u001b[0;32mimport\u001b[0m \u001b[0mpandas2ri\u001b[0m\u001b[0;34m\u001b[0m\u001b[0;34m\u001b[0m\u001b[0m\n\u001b[0m\u001b[1;32m      2\u001b[0m \u001b[0mr_dataframe\u001b[0m \u001b[0;34m=\u001b[0m \u001b[0mpandas2ri\u001b[0m\u001b[0;34m.\u001b[0m\u001b[0mpy2ri\u001b[0m\u001b[0;34m(\u001b[0m\u001b[0mdfV11_circstats\u001b[0m\u001b[0;34m)\u001b[0m\u001b[0;34m\u001b[0m\u001b[0;34m\u001b[0m\u001b[0m\n",
      "\u001b[0;32m~/opt/anaconda3/lib/python3.8/site-packages/rpy2/robjects/__init__.py\u001b[0m in \u001b[0;36m<module>\u001b[0;34m\u001b[0m\n\u001b[1;32m     14\u001b[0m \u001b[0;32mimport\u001b[0m \u001b[0mtypes\u001b[0m\u001b[0;34m\u001b[0m\u001b[0;34m\u001b[0m\u001b[0m\n\u001b[1;32m     15\u001b[0m \u001b[0;32mimport\u001b[0m \u001b[0mtyping\u001b[0m\u001b[0;34m\u001b[0m\u001b[0;34m\u001b[0m\u001b[0m\n\u001b[0;32m---> 16\u001b[0;31m \u001b[0;32mimport\u001b[0m \u001b[0mrpy2\u001b[0m\u001b[0;34m.\u001b[0m\u001b[0mrinterface\u001b[0m \u001b[0;32mas\u001b[0m \u001b[0mrinterface\u001b[0m\u001b[0;34m\u001b[0m\u001b[0;34m\u001b[0m\u001b[0m\n\u001b[0m\u001b[1;32m     17\u001b[0m \u001b[0;32mimport\u001b[0m \u001b[0mrpy2\u001b[0m\u001b[0;34m.\u001b[0m\u001b[0mrinterface_lib\u001b[0m\u001b[0;34m.\u001b[0m\u001b[0membedded\u001b[0m\u001b[0;34m\u001b[0m\u001b[0;34m\u001b[0m\u001b[0m\n\u001b[1;32m     18\u001b[0m \u001b[0;32mimport\u001b[0m \u001b[0mrpy2\u001b[0m\u001b[0;34m.\u001b[0m\u001b[0mrinterface_lib\u001b[0m\u001b[0;34m.\u001b[0m\u001b[0mopenrlib\u001b[0m\u001b[0;34m\u001b[0m\u001b[0;34m\u001b[0m\u001b[0m\n",
      "\u001b[0;32m~/opt/anaconda3/lib/python3.8/site-packages/rpy2/rinterface.py\u001b[0m in \u001b[0;36m<module>\u001b[0;34m\u001b[0m\n\u001b[1;32m     14\u001b[0m \u001b[0;32mimport\u001b[0m \u001b[0mwarnings\u001b[0m\u001b[0;34m\u001b[0m\u001b[0;34m\u001b[0m\u001b[0m\n\u001b[1;32m     15\u001b[0m \u001b[0;32mfrom\u001b[0m \u001b[0mtyping\u001b[0m \u001b[0;32mimport\u001b[0m \u001b[0mUnion\u001b[0m\u001b[0;34m\u001b[0m\u001b[0;34m\u001b[0m\u001b[0m\n\u001b[0;32m---> 16\u001b[0;31m \u001b[0;32mfrom\u001b[0m \u001b[0mrpy2\u001b[0m\u001b[0;34m.\u001b[0m\u001b[0mrinterface_lib\u001b[0m \u001b[0;32mimport\u001b[0m \u001b[0mopenrlib\u001b[0m\u001b[0;34m\u001b[0m\u001b[0;34m\u001b[0m\u001b[0m\n\u001b[0m\u001b[1;32m     17\u001b[0m \u001b[0;32mimport\u001b[0m \u001b[0mrpy2\u001b[0m\u001b[0;34m.\u001b[0m\u001b[0mrinterface_lib\u001b[0m\u001b[0;34m.\u001b[0m\u001b[0m_rinterface_capi\u001b[0m \u001b[0;32mas\u001b[0m \u001b[0m_rinterface\u001b[0m\u001b[0;34m\u001b[0m\u001b[0;34m\u001b[0m\u001b[0m\n\u001b[1;32m     18\u001b[0m \u001b[0;32mimport\u001b[0m \u001b[0mrpy2\u001b[0m\u001b[0;34m.\u001b[0m\u001b[0mrinterface_lib\u001b[0m\u001b[0;34m.\u001b[0m\u001b[0membedded\u001b[0m \u001b[0;32mas\u001b[0m \u001b[0membedded\u001b[0m\u001b[0;34m\u001b[0m\u001b[0;34m\u001b[0m\u001b[0m\n",
      "\u001b[0;32m~/opt/anaconda3/lib/python3.8/site-packages/rpy2/rinterface_lib/openrlib.py\u001b[0m in \u001b[0;36m<module>\u001b[0;34m\u001b[0m\n\u001b[1;32m     56\u001b[0m     \u001b[0mrlib\u001b[0m \u001b[0;34m=\u001b[0m \u001b[0m_rinterface_cffi\u001b[0m\u001b[0;34m.\u001b[0m\u001b[0mlib\u001b[0m\u001b[0;34m\u001b[0m\u001b[0;34m\u001b[0m\u001b[0m\n\u001b[1;32m     57\u001b[0m \u001b[0;32melse\u001b[0m\u001b[0;34m:\u001b[0m\u001b[0;34m\u001b[0m\u001b[0;34m\u001b[0m\u001b[0m\n\u001b[0;32m---> 58\u001b[0;31m     \u001b[0mrlib\u001b[0m \u001b[0;34m=\u001b[0m \u001b[0m_dlopen_rlib\u001b[0m\u001b[0;34m(\u001b[0m\u001b[0mR_HOME\u001b[0m\u001b[0;34m)\u001b[0m\u001b[0;34m\u001b[0m\u001b[0;34m\u001b[0m\u001b[0m\n\u001b[0m\u001b[1;32m     59\u001b[0m \u001b[0;34m\u001b[0m\u001b[0m\n\u001b[1;32m     60\u001b[0m \u001b[0;34m\u001b[0m\u001b[0m\n",
      "\u001b[0;32m~/opt/anaconda3/lib/python3.8/site-packages/rpy2/rinterface_lib/openrlib.py\u001b[0m in \u001b[0;36m_dlopen_rlib\u001b[0;34m(r_home)\u001b[0m\n\u001b[1;32m     49\u001b[0m         \u001b[0;32mraise\u001b[0m \u001b[0mValueError\u001b[0m\u001b[0;34m(\u001b[0m\u001b[0;34m'The library path cannot be None.'\u001b[0m\u001b[0;34m)\u001b[0m\u001b[0;34m\u001b[0m\u001b[0;34m\u001b[0m\u001b[0m\n\u001b[1;32m     50\u001b[0m     \u001b[0;32melse\u001b[0m\u001b[0;34m:\u001b[0m\u001b[0;34m\u001b[0m\u001b[0;34m\u001b[0m\u001b[0m\n\u001b[0;32m---> 51\u001b[0;31m         \u001b[0mrlib\u001b[0m \u001b[0;34m=\u001b[0m \u001b[0mffi\u001b[0m\u001b[0;34m.\u001b[0m\u001b[0mdlopen\u001b[0m\u001b[0;34m(\u001b[0m\u001b[0mlib_path\u001b[0m\u001b[0;34m)\u001b[0m\u001b[0;34m\u001b[0m\u001b[0;34m\u001b[0m\u001b[0m\n\u001b[0m\u001b[1;32m     52\u001b[0m     \u001b[0;32mreturn\u001b[0m \u001b[0mrlib\u001b[0m\u001b[0;34m\u001b[0m\u001b[0;34m\u001b[0m\u001b[0m\n\u001b[1;32m     53\u001b[0m \u001b[0;34m\u001b[0m\u001b[0m\n",
      "\u001b[0;31mOSError\u001b[0m: cannot load library '/Users/hkular/opt/anaconda3/lib/R/lib/libR.dylib': dlopen(/Users/hkular/opt/anaconda3/lib/R/lib/libR.dylib, 0x0002): Library not loaded: @rpath/libreadline.6.2.dylib\n  Referenced from: <185433D7-8B40-31AA-8BD9-465D23C57257> /Users/hkular/opt/anaconda3/lib/R/lib/libR.dylib\n  Reason: tried: '/Users/hkular/opt/anaconda3/lib/R/lib/../../libreadline.6.2.dylib' (no such file), '/Users/hkular/opt/anaconda3/lib/R/lib/../../libreadline.6.2.dylib' (no such file), '/Users/hkular/opt/anaconda3/lib/libreadline.6.2.dylib' (no such file), '/System/Volumes/Preboot/Cryptexes/OS/Users/hkular/opt/anaconda3/lib/libreadline.6.2.dylib' (no such file), '/Users/hkular/opt/anaconda3/lib/libreadline.6.2.dylib' (no such file), '/System/Volumes/Preboot/Cryptexes/OS/Users/hkular/opt/anaconda3/lib/libreadline.6.2.dylib' (no such file), '/Users/hkular/opt/anaconda3/lib/python3.8/site-packages/../../libreadline.6.2.dylib' (no such file), '/Users/hkular/opt/anaconda3/lib/libreadline.6.2.dylib' (no such file), '/System/Volumes/Preboot/Cryptexes/OS/Users/hkular/opt/anaconda3/lib/libreadline.6.2.dylib' (no such file), '/Users/hkular/opt/anaconda3/bin/../lib/libreadline.6.2.dylib' (no such file), '/usr/local/lib/libreadline.6.2.dylib' (no such file), '/usr/lib/libreadline.6.2.dylib' (no such file, not in dyld cache)"
     ]
    }
   ],
   "source": [
    "from rpy2.robjects import pandas2ri\n",
    "r_dataframe = pandas2ri.py2ri(dfV11_circstats)\n"
   ]
  },
  {
   "cell_type": "code",
   "execution_count": null,
   "id": "8b72d718-df39-47aa-adab-446fe6cbc4c3",
   "metadata": {},
   "outputs": [],
   "source": [
    "\n",
    "base = importr('base')\n",
    "BF = importr('BayesFactor')\n",
    "\n",
    "r_command = \"\"\"\n",
    "BFrmV11 <- anovaBF(circ_sd ~ kappa + distractor + kappa:distractor + id,\n",
    "                   data = dfV11_circstats, whichRandom = \"id\", whichModels = 'all')\n",
    "\"\"\"\n",
    "\n",
    "# Execute the R command\n",
    "base.eval(r_command)"
   ]
  },
  {
   "cell_type": "code",
   "execution_count": 3,
   "id": "5eab1e0d-b22e-45f1-beef-047fd59644de",
   "metadata": {},
   "outputs": [
    {
     "ename": "NameError",
     "evalue": "name 'R_HOME' is not defined",
     "output_type": "error",
     "traceback": [
      "\u001b[0;31m---------------------------------------------------------------------------\u001b[0m",
      "\u001b[0;31mNameError\u001b[0m                                 Traceback (most recent call last)",
      "\u001b[0;32m<ipython-input-3-cab86b932451>\u001b[0m in \u001b[0;36m<module>\u001b[0;34m\u001b[0m\n\u001b[0;32m----> 1\u001b[0;31m \u001b[0mR_HOME\u001b[0m\u001b[0;34m\u001b[0m\u001b[0;34m\u001b[0m\u001b[0m\n\u001b[0m",
      "\u001b[0;31mNameError\u001b[0m: name 'R_HOME' is not defined"
     ]
    }
   ],
   "source": []
  },
  {
   "cell_type": "code",
   "execution_count": null,
   "id": "bbf44033-3f53-44a0-85f0-416b77081c8f",
   "metadata": {},
   "outputs": [],
   "source": [
    "# switch to R kernel\n",
    "(BFrmV11 <- anovaBF(circ_sd ~ kappa + distractor + kappa:distractor + id,\n",
    "data = dfV11_circstats, whichRandom = \"id\", whichModels = 'all') )# Bayesian mixed effects ANOVA\n",
    "BFrmV11[7]/BFrmV11[4] # evidence of interaction with main effects accounted for\n"
   ]
  },
  {
   "cell_type": "markdown",
   "id": "eef5996d-3436-4f1c-acb9-6bc70b9ef4b1",
   "metadata": {},
   "source": [
    "#(5) Distractor bias"
   ]
  },
  {
   "cell_type": "code",
   "execution_count": null,
   "id": "d8fe2a09-e0e5-49f7-a515-1d5ef033b917",
   "metadata": {},
   "outputs": [],
   "source": [
    "# switch back to python kernel"
   ]
  }
 ],
 "metadata": {
  "kernelspec": {
   "display_name": "Python 3",
   "language": "python",
   "name": "python3"
  },
  "language_info": {
   "codemirror_mode": {
    "name": "ipython",
    "version": 3
   },
   "file_extension": ".py",
   "mimetype": "text/x-python",
   "name": "python",
   "nbconvert_exporter": "python",
   "pygments_lexer": "ipython3",
   "version": "3.8.8"
  }
 },
 "nbformat": 4,
 "nbformat_minor": 5
}
